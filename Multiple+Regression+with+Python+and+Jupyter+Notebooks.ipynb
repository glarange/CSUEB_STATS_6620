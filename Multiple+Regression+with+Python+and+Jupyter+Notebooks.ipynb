{
 "cells": [
  {
   "cell_type": "markdown",
   "metadata": {},
   "source": [
    "### CSUEB - STATS 6620 - Spring 2017 - Prof. Eric Suess\n",
    "#### Multiple Regression in Python and Jupyter Notes\n",
    "##### Gui Larangeira"
   ]
  },
  {
   "cell_type": "markdown",
   "metadata": {},
   "source": [
    "We use sveral Python libraries"
   ]
  },
  {
   "cell_type": "code",
   "execution_count": 14,
   "metadata": {
    "collapsed": true
   },
   "outputs": [],
   "source": [
    "import numpy as np\n",
    "import pandas as pd\n",
    "import statsmodels.api as sm\n",
    "# If the observations are in a dataframe, you can use statsmodels.formulas.api to do the regression instead\n",
    "from statsmodels import regression\n",
    "import matplotlib.pyplot as plt"
   ]
  },
  {
   "cell_type": "code",
   "execution_count": 15,
   "metadata": {
    "collapsed": false
   },
   "outputs": [
    {
     "name": "stdout",
     "output_type": "stream",
     "text": [
      "Error [ 0.  -0.5  1.  -1.  -3. ]\n",
      "Squared Error [ 0.    0.25  1.    1.    9.  ]\n",
      "Sum Squared Error 11.25\n"
     ]
    }
   ],
   "source": [
    "Y = np.array([1, 3.5, 4, 8, 12])\n",
    "Y_hat = np.array([1, 3, 5, 7, 9])\n",
    "\n",
    "print('Error ' + str(Y_hat - Y))\n",
    "\n",
    "# Compute squared error\n",
    "SE = (Y_hat - Y) ** 2\n",
    "\n",
    "print('Squared Error ' + str(SE))\n",
    "print('Sum Squared Error ' + str(np.sum(SE)))"
   ]
  },
  {
   "cell_type": "code",
   "execution_count": null,
   "metadata": {
    "collapsed": false
   },
   "outputs": [],
   "source": []
  },
  {
   "cell_type": "code",
   "execution_count": null,
   "metadata": {
    "collapsed": true
   },
   "outputs": [],
   "source": []
  }
 ],
 "metadata": {
  "kernelspec": {
   "display_name": "Python 3",
   "language": "python",
   "name": "python3"
  },
  "language_info": {
   "codemirror_mode": {
    "name": "ipython",
    "version": 3
   },
   "file_extension": ".py",
   "mimetype": "text/x-python",
   "name": "python",
   "nbconvert_exporter": "python",
   "pygments_lexer": "ipython3",
   "version": "3.6.0"
  }
 },
 "nbformat": 4,
 "nbformat_minor": 2
}
